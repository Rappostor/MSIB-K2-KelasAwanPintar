{
  "nbformat": 4,
  "nbformat_minor": 0,
  "metadata": {
    "colab": {
      "provenance": [],
      "include_colab_link": true
    },
    "kernelspec": {
      "name": "python3",
      "display_name": "Python 3"
    },
    "language_info": {
      "name": "python"
    },
    "accelerator": "GPU",
    "gpuClass": "standard"
  },
  "cells": [
    {
      "cell_type": "markdown",
      "metadata": {
        "id": "view-in-github",
        "colab_type": "text"
      },
      "source": [
        "<a href=\"https://colab.research.google.com/github/Rappostor/MSIB-K2-KelasAwanPintar/blob/main/SL_04_Regular_Expression.ipynb\" target=\"_parent\"><img src=\"https://colab.research.google.com/assets/colab-badge.svg\" alt=\"Open In Colab\"/></a>"
      ]
    },
    {
      "cell_type": "markdown",
      "source": [
        "## Regular Expression (Regex)\n",
        "> Library untuk pengenalan dan pengelolaan pola pada teks\n",
        ">\n",
        "\n",
        "Contoh implementasi:\n",
        "- Pola Email\n",
        "- Pola Nomor telepon\n",
        "- Pola url\n",
        "- Pola Nomor plat kendaraan bermotor\n",
        "- Menghilangkan karakter khusus pada teks\n",
        "- dll."
      ],
      "metadata": {
        "id": "V6uGozZv4e5K"
      }
    },
    {
      "cell_type": "markdown",
      "source": [
        "**Contoh Syntax dan Aturan-aturan pada class Regex**\n",
        "\n",
        "---\n",
        "Kelas Karakter\n",
        "---\n",
        "\n",
        "*   [ abc] = karakter a ,b atau c (kelas sederhana)\n",
        "*   [^abc] = kecuali karakter a ,b ,atau (negasi)\n",
        "*   [a-zA-Z] = karakter a sampai z huruf kecil , atau A sampai Z huruf besar ,(jarak)\n",
        "*   [a-z[x-y]] = karakter a sampai d ,atau m sampai p (a-xy-z : gabungan)\n",
        "*   [a-z0-9] = karakter a sampai z ,atau angka dari 0 sampai 9\n",
        "*   [a-z&&[^bc] = karakter a sampi z, kecuali untuk b dan c.\n",
        "\n",
        "---\n",
        "Meta Karakter\n",
        "---\n",
        "*   . = tanda titik ,yang berarti karakter apa saja\n",
        "*   \\d = angka digit apa saja:, seperti [0-9]\n",
        "*   \\D = selain angka digit : [^0-9]\n",
        "*   \\s = sebuah spasi pada kaarkter, seperti [ \\t\\n\\x0B\\f\\r]\n",
        "*   \\S = selain spasi pada karakter: [^\\s]\n",
        "*   \\w = huruf dan angka apa saja ,seperti [a-zA-Z_0-9]\n",
        "*   \\W = selain angka dan huruf ,[\\w]\n",
        "\n",
        "---\n",
        "Batasan Kecocokan Karakter\n",
        "---\n",
        "*   ^ = tanda awalan\n",
        "*   $ = tanda akhiran\n",
        "*   \\b = batasan kecocokan kata\n",
        "*   \\B = batasan kecocokan selain kata\n",
        "*   \\A = awalan untuk input text\n",
        "*   \\G = akhir dari kecocokan sebelumnya\n",
        "*   \\Z = akhir dari input text, kecuali final terminator jika ada\n",
        "*   \\z = akhir dari input text\n"
      ],
      "metadata": {
        "id": "oAlARrGQ4l-k"
      }
    },
    {
      "cell_type": "code",
      "execution_count": 4,
      "metadata": {
        "id": "I1d9WoQ54eD_"
      },
      "outputs": [],
      "source": [
        "# Import Library Regex (re)\n",
        "import re\n",
        "\n",
        "# Pola Email\n",
        "email_pattern = re.compile(r'[\\w._%+-]+@[\\w\\.-]+\\.[a-zA-Z]{2,4}')\n",
        "txt = 'Contact kami di admin@thenextyunikorn.id, sales@yunikornbaru.com, atau hrd@yunikornindo.id'\n",
        "\n"
      ]
    },
    {
      "cell_type": "code",
      "source": [
        "txt"
      ],
      "metadata": {
        "colab": {
          "base_uri": "https://localhost:8080/",
          "height": 35
        },
        "id": "8tohi4k44f33",
        "outputId": "b0e3ba04-d9f6-4186-916a-d18c9564b182"
      },
      "execution_count": 5,
      "outputs": [
        {
          "output_type": "execute_result",
          "data": {
            "text/plain": [
              "'Contact kami di admin@thenextyunikorn.id, sales@yunikornbaru.com, atau hrd@yunikornindo.id'"
            ],
            "application/vnd.google.colaboratory.intrinsic+json": {
              "type": "string"
            }
          },
          "metadata": {},
          "execution_count": 5
        }
      ]
    },
    {
      "cell_type": "markdown",
      "source": [
        "### Pola Email"
      ],
      "metadata": {
        "id": "eL7ag9IU5UEt"
      }
    },
    {
      "cell_type": "code",
      "source": [
        "# Menghapus Email dalam teks\n",
        "print( re.sub(email_pattern, ' ', txt))"
      ],
      "metadata": {
        "colab": {
          "base_uri": "https://localhost:8080/"
        },
        "id": "dz1D6cCR5NsP",
        "outputId": "55fbc93c-abbc-402e-f6b8-81cabef2e9d6"
      },
      "execution_count": 6,
      "outputs": [
        {
          "output_type": "stream",
          "name": "stdout",
          "text": [
            "Contact kami di  ,  , atau  \n"
          ]
        }
      ]
    },
    {
      "cell_type": "code",
      "source": [
        "# Mengambil email dari teks berdasarkan pola regex yang ditentukan\n",
        "emails = re.findall(email_pattern, txt)\n",
        "print( 'Email yang ditemukan: ', emails)"
      ],
      "metadata": {
        "colab": {
          "base_uri": "https://localhost:8080/"
        },
        "id": "0hgD0Vj25XKP",
        "outputId": "fc22bf40-dccb-422b-c73d-46b7607a2b89"
      },
      "execution_count": 7,
      "outputs": [
        {
          "output_type": "stream",
          "name": "stdout",
          "text": [
            "Email yang ditemukan:  ['admin@thenextyunikorn.id', 'sales@yunikornbaru.com', 'hrd@yunikornindo.id']\n"
          ]
        }
      ]
    },
    {
      "cell_type": "markdown",
      "source": [
        "### Pola Nomor Telepon"
      ],
      "metadata": {
        "id": "EftUKvWl5iwt"
      }
    },
    {
      "cell_type": "code",
      "source": [
        "# Pola telephone : \\d penanda angka di reguler Expression, \\s spasi, dan \"|\" adalah \"atau\"\n",
        "# \"?\" menyatakan pilihan (optional)\n",
        "phone_pattern = re.compile(r'(\\d{3}[-\\.\\s]??\\d{3}[-\\.\\s]??\\d{4,6}|\\(\\d{3}\\)\\s*\\d{3}[-\\.\\s]??\\d{4,6}|\\d{3,4}[-\\.\\s]??\\d{4,6})')\n",
        "txt = 'Contact kami di 021-7632456 atau 021-443-4162 atau 021 797 4524 atau 0822959020 atau +628199258643'"
      ],
      "metadata": {
        "id": "5uLcON-Z5Z3X"
      },
      "execution_count": 8,
      "outputs": []
    },
    {
      "cell_type": "code",
      "source": [
        "# Sensor *** untuk pola Nomor Telepon\n",
        "print(re.sub(phone_pattern,'***',txt))"
      ],
      "metadata": {
        "colab": {
          "base_uri": "https://localhost:8080/"
        },
        "id": "I3EyrkQJ5lyt",
        "outputId": "d36df432-8a8e-41a4-e2fc-5da0e8bfee9d"
      },
      "execution_count": 9,
      "outputs": [
        {
          "output_type": "stream",
          "name": "stdout",
          "text": [
            "Contact kami di *** atau *** atau *** atau *** atau +***\n"
          ]
        }
      ]
    },
    {
      "cell_type": "code",
      "source": [
        "# Mengambil nomor telepon dari teks berdasarkan pola regex yang telah ditentukan\n",
        "phone_numbers = re.findall(phone_pattern,txt)\n",
        "print('Nomer telephone yang ditemukan: ', str(phone_numbers))"
      ],
      "metadata": {
        "colab": {
          "base_uri": "https://localhost:8080/"
        },
        "id": "7JRvMScm5ocU",
        "outputId": "dcb630f6-3a7c-400c-9993-b0b8fd675a83"
      },
      "execution_count": 10,
      "outputs": [
        {
          "output_type": "stream",
          "name": "stdout",
          "text": [
            "Nomer telephone yang ditemukan:  ['021-7632456', '021-443-4162', '021 797 4524', '0822959020', '628199258643']\n"
          ]
        }
      ]
    },
    {
      "cell_type": "markdown",
      "source": [
        "###Pola URL atau Link"
      ],
      "metadata": {
        "id": "QX0TdMCy51Jo"
      }
    },
    {
      "cell_type": "code",
      "source": [
        "# Website URL http(s)\n",
        "url_pattern = re.compile(r'www|http:|https:+[^\\s]+[\\w]')\n",
        "txt = 'Teman teman dapat mengunjungi link berikut untuk sumber belajar: https://www.regular-expressions.info/ atau https://www.towardsdatascience.com atau https://wikipedia.org'\n"
      ],
      "metadata": {
        "id": "h4RUWsQ-5wvM"
      },
      "execution_count": 11,
      "outputs": []
    },
    {
      "cell_type": "code",
      "source": [
        "# Menghapus url pada teks\n",
        "print(re.sub(url_pattern,' ',txt))"
      ],
      "metadata": {
        "colab": {
          "base_uri": "https://localhost:8080/"
        },
        "id": "6VPaWUE856EM",
        "outputId": "87537489-6040-4f50-9f79-355fc82f1601"
      },
      "execution_count": 12,
      "outputs": [
        {
          "output_type": "stream",
          "name": "stdout",
          "text": [
            "Teman teman dapat mengunjungi link berikut untuk sumber belajar:  / atau   atau  \n"
          ]
        }
      ]
    },
    {
      "cell_type": "code",
      "source": [
        "# Mengambil url dari teks berdasarkan pola regex yang telah ditentukan\n",
        "urls = re.findall(url_pattern,txt)# get urls\n",
        "print('URL yang ditemukan: ',str(urls))"
      ],
      "metadata": {
        "colab": {
          "base_uri": "https://localhost:8080/"
        },
        "id": "dNG7stdk58W4",
        "outputId": "d16bc297-8029-49e9-fe4e-424a17831206"
      },
      "execution_count": 13,
      "outputs": [
        {
          "output_type": "stream",
          "name": "stdout",
          "text": [
            "URL yang ditemukan:  ['https://www.regular-expressions.info', 'https://www.towardsdatascience.com', 'https://wikipedia.org']\n"
          ]
        }
      ]
    },
    {
      "cell_type": "markdown",
      "source": [
        "### Pola Plat Kendaraan Bermotor"
      ],
      "metadata": {
        "id": "LNiEbH3S6CN7"
      }
    },
    {
      "cell_type": "code",
      "source": [
        "plat_pattern = re.compile(r'[A-Z]{1,2}\\s\\d{1,4}\\s[A-Z]{1,3}')\n",
        "text = \"Mr.X punya 2 motor dan 1 mobil. Adapun plat nomornya yaitu B 234 AA, C 3244 YGS, dan D 3 S.\""
      ],
      "metadata": {
        "id": "s4QddXbx5-iJ"
      },
      "execution_count": 14,
      "outputs": []
    },
    {
      "cell_type": "code",
      "source": [
        "# Menghapus plat kendaraan pada teks\n",
        "print(re.sub(plat_pattern, ' ', text))"
      ],
      "metadata": {
        "colab": {
          "base_uri": "https://localhost:8080/"
        },
        "id": "OFNIAGqK6GD_",
        "outputId": "b212f23b-e0f9-4ef2-910f-11b4542f1f0f"
      },
      "execution_count": 15,
      "outputs": [
        {
          "output_type": "stream",
          "name": "stdout",
          "text": [
            "Mr.X punya 2 motor dan 1 mobil. Adapun plat nomornya yaitu  ,  , dan  .\n"
          ]
        }
      ]
    },
    {
      "cell_type": "code",
      "source": [
        "kumpulan_plat_kendaraan = re.findall(plat_pattern, text)\n",
        "print(kumpulan_plat_kendaraan)"
      ],
      "metadata": {
        "colab": {
          "base_uri": "https://localhost:8080/"
        },
        "id": "hKLvdOf86Ia0",
        "outputId": "1855744e-acaf-4f66-c777-1b38856a7f9b"
      },
      "execution_count": 16,
      "outputs": [
        {
          "output_type": "stream",
          "name": "stdout",
          "text": [
            "['B 234 AA', 'C 3244 YGS', 'D 3 S']\n"
          ]
        }
      ]
    },
    {
      "cell_type": "markdown",
      "source": [
        "### Menghilangkan Karakter Khusus"
      ],
      "metadata": {
        "id": "dko-Vzwk6RmO"
      }
    },
    {
      "cell_type": "code",
      "source": [
        "text = \"Halo @Orbit, apa kabar? #SapaKawan.\"\n",
        "result = re.sub(r'[@,.?#]', '', text)\n",
        "print(result)"
      ],
      "metadata": {
        "colab": {
          "base_uri": "https://localhost:8080/"
        },
        "id": "cQx-_U-m6LLV",
        "outputId": "dc8cd1d1-670b-47c7-bdf3-60090958727b"
      },
      "execution_count": 17,
      "outputs": [
        {
          "output_type": "stream",
          "name": "stdout",
          "text": [
            "Halo Orbit apa kabar SapaKawan\n"
          ]
        }
      ]
    },
    {
      "cell_type": "markdown",
      "source": [
        "##Buat dipelajari tidak usah dikumpulkan!\n",
        "##FYI: **Just challenge ur knowledge**\n",
        "## Self-Activity 1\n",
        "**TEXT:**\n",
        "> Halo semua, namaku Andy Joe. Kemarin smartphoneku mendapat SMS tagihan Pinjaman Online dari nomor 08004398499. Selain itu emailku juga mendapatkan pesan serupa dari debtcollector@pinjolninuninu.com. Ternyata salah satu temanku menjadikan nomor telepon dan emailku sebagai penanggungjawab pinjaman onlinenya :(. Tak lama sosok pria berbadan bongsor datang ke rumahku dengan menggunakan mogenya. Ia menanyakan keberadaan temanku yang meminjam uang di perusahaan Pinjol tersebut. Aku yang tak tahu keberadaannya pun menjawab apa adanya. Tak lama kemudian pria tersebut pergi dan segera kuambil gambar mogenya dengan  plat PO 3030 AY. Setelah itu aku menghubungi temanku dan meminta penjelasan kepadanya.\n",
        ">\n",
        "---\n",
        "### Buatlah format pesan kepada teman Andy Joe untuk meminta penjelasan terkait dengan situasi yang sedang terjadi. (ganti teks yang cetak miring dan tebal menjadi nomor debtcollector, email debtcollector dan plat nomor)\n",
        ">\n",
        "\n",
        "**Format Pesan:**\n",
        "> \"*Halo xxxxx, Aku tadi habis didatangi debtcollector. Dia mengirimiku pesan lewat nomornya yaitu **nomor_debtcollector** dan email **email_debtcollector**. Dia bilang kamu jadiin nomorku dan emailku sebagai penanggungjawab. Bisa tolong jelasin? Terus aku tadi juga sempet foto motor yg dipake mas debtcollector. Plat nomornya **plat_nomor_debtcollector**.*\""
      ],
      "metadata": {
        "id": "xvvlUt1l6vu6"
      }
    },
    {
      "cell_type": "markdown",
      "source": [
        "## Self-Activity 2\n",
        "1. Buat Webscraping dan Crawling dari website berbeda selain warstek\n",
        "2. lakukan RegEx dari hasil Scraping\n",
        "3. visualisasikan kedalam dataframe dari hasil webscraping dan crawling\n",
        "4. Buat Data JSON untuk Chatbot resep makanan khas daerah teman-teman"
      ],
      "metadata": {
        "id": "JXuTglwVH1FC"
      }
    },
    {
      "cell_type": "code",
      "source": [
        "import requests\n",
        "from bs4 import BeautifulSoup\n",
        "import re\n",
        "import pandas as pd\n",
        "\n",
        "# Define the target URL for scraping\n",
        "url = 'https://warungpintar.co.id/'  # Replace with a valid URL\n",
        "\n",
        "# Send a GET request to fetch the raw HTML content\n",
        "response = requests.get(url)\n",
        "if response.status_code == 200:\n",
        "    print(\"Successfully fetched the webpage!\")\n",
        "else:\n",
        "    print(\"Failed to retrieve webpage content.\")\n",
        "\n",
        "# Parse the HTML content using BeautifulSoup\n",
        "soup = BeautifulSoup(response.content, 'html.parser')\n",
        "\n",
        "# Extract specific text, such as contact details\n",
        "text = soup.get_text()\n",
        "\n",
        "# Define regex patterns to extract emails, phone numbers, and URLs\n",
        "email_pattern = re.compile(r'[\\w._%+-]+@[\\w\\.-]+\\.[a-zA-Z]{2,4}')\n",
        "phone_pattern = re.compile(r'(\\d{3}[-\\.\\s]??\\d{3}[-\\.\\s]??\\d{4,6}|\\(\\d{3}\\)\\s*\\d{3}[-\\.\\s]??\\d{4,6}|\\d{3,4}[-\\.\\s]??\\d{4,6})')\n",
        "url_pattern = re.compile(r'https?://[^\\s]+')\n",
        "\n",
        "# Find all matches\n",
        "emails = re.findall(email_pattern, text)\n",
        "phones = re.findall(phone_pattern, text)\n",
        "urls = re.findall(url_pattern, text)\n",
        "\n",
        "# Display found data\n",
        "print(\"Emails found:\", emails)\n",
        "print(\"Phone numbers found:\", phones)\n",
        "print(\"URLs found:\", urls)\n",
        "\n",
        "# Create DataFrame from the results\n",
        "# Ensure each list has the same length by padding shorter lists with None\n",
        "max_length = max(len(emails), len(phones), len(urls))\n",
        "emails.extend([None] * (max_length - len(emails)))\n",
        "phones.extend([None] * (max_length - len(phones)))\n",
        "urls.extend([None] * (max_length - len(urls)))\n",
        "\n",
        "# Create the DataFrame\n",
        "df = pd.DataFrame({\n",
        "    \"Email\": emails,\n",
        "    \"Phone Number\": phones,\n",
        "    \"URLs\": urls\n",
        "})\n",
        "\n",
        "# Display the DataFrame\n",
        "print(\"\\nDataFrame created from web scraping results:\")\n",
        "print(df)\n"
      ],
      "metadata": {
        "id": "otv3T1NU6UJM",
        "colab": {
          "base_uri": "https://localhost:8080/"
        },
        "outputId": "691726c0-0c80-41bb-e471-ce6836c219c5"
      },
      "execution_count": 21,
      "outputs": [
        {
          "output_type": "stream",
          "name": "stdout",
          "text": [
            "Successfully fetched the webpage!\n",
            "Emails found: ['12120partnership@warungpintar.coCS']\n",
            "Phone numbers found: ['851-5757', '853-1111']\n",
            "URLs found: []\n",
            "\n",
            "DataFrame created from web scraping results:\n",
            "                                Email Phone Number  URLs\n",
            "0  12120partnership@warungpintar.coCS     851-5757  None\n",
            "1                                None     853-1111  None\n"
          ]
        }
      ]
    },
    {
      "cell_type": "code",
      "source": [
        "# Sample data for local food recipes\n",
        "recipes = {\n",
        "    \"recipes\": [\n",
        "        {\n",
        "            \"dish\": \"Rendang\",\n",
        "            \"origin\": \"West Sumatra\",\n",
        "            \"ingredients\": [\"Beef\", \"Coconut milk\", \"Red chili pepper\", \"Garlic\", \"Ginger\", \"Turmeric\"],\n",
        "            \"instructions\": \"Simmer beef in coconut milk and spices until tender.\",\n",
        "        },\n",
        "        {\n",
        "            \"dish\": \"Gudeg\",\n",
        "            \"origin\": \"Yogyakarta\",\n",
        "            \"ingredients\": [\"Jackfruit\", \"Coconut milk\", \"Palm sugar\", \"Garlic\", \"Shallots\", \"Bay leaves\"],\n",
        "            \"instructions\": \"Cook jackfruit in coconut milk and spices until tender.\",\n",
        "        },\n",
        "        {\n",
        "            \"dish\": \"Pempek\",\n",
        "            \"origin\": \"Palembang\",\n",
        "            \"ingredients\": [\"Fish\", \"Tapioca flour\", \"Garlic\", \"Salt\", \"Egg\"],\n",
        "            \"instructions\": \"Mix fish and flour, shape into cakes, and fry until golden.\",\n",
        "        }\n",
        "    ]\n",
        "}\n",
        "\n",
        "# Convert the dictionary to JSON and save it as a file\n",
        "with open(\"recipes_chatbot.json\", \"w\") as json_file:\n",
        "    json.dump(recipes, json_file, indent=4)\n",
        "print(\"Chatbot recipe data saved to recipes_chatbot.json.\")\n"
      ],
      "metadata": {
        "colab": {
          "base_uri": "https://localhost:8080/"
        },
        "id": "MOaebjx1appg",
        "outputId": "1e9884d8-ee75-4abd-d650-732ca876ed71"
      },
      "execution_count": 22,
      "outputs": [
        {
          "output_type": "stream",
          "name": "stdout",
          "text": [
            "Chatbot recipe data saved to recipes_chatbot.json.\n"
          ]
        }
      ]
    }
  ]
}