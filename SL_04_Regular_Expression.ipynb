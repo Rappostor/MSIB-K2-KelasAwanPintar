{
  "nbformat": 4,
  "nbformat_minor": 0,
  "metadata": {
    "colab": {
      "provenance": [],
      "include_colab_link": true
    },
    "kernelspec": {
      "name": "python3",
      "display_name": "Python 3"
    },
    "language_info": {
      "name": "python"
    },
    "accelerator": "GPU",
    "gpuClass": "standard"
  },
  "cells": [
    {
      "cell_type": "markdown",
      "metadata": {
        "id": "view-in-github",
        "colab_type": "text"
      },
      "source": [
        "<a href=\"https://colab.research.google.com/github/Rappostor/MSIB-K2-KelasAwanPintar/blob/main/SL_04_Regular_Expression.ipynb\" target=\"_parent\"><img src=\"https://colab.research.google.com/assets/colab-badge.svg\" alt=\"Open In Colab\"/></a>"
      ]
    },
    {
      "cell_type": "markdown",
      "source": [
        "## Regular Expression (Regex)\n",
        "> Library untuk pengenalan dan pengelolaan pola pada teks\n",
        ">\n",
        "\n",
        "Contoh implementasi:\n",
        "- Pola Email\n",
        "- Pola Nomor telepon\n",
        "- Pola url\n",
        "- Pola Nomor plat kendaraan bermotor\n",
        "- Menghilangkan karakter khusus pada teks\n",
        "- dll."
      ],
      "metadata": {
        "id": "V6uGozZv4e5K"
      }
    },
    {
      "cell_type": "markdown",
      "source": [
        "**Contoh Syntax dan Aturan-aturan pada class Regex**\n",
        "\n",
        "---\n",
        "Kelas Karakter\n",
        "---\n",
        "\n",
        "*   [ abc] = karakter a ,b atau c (kelas sederhana)\n",
        "*   [^abc] = kecuali karakter a ,b ,atau (negasi)\n",
        "*   [a-zA-Z] = karakter a sampai z huruf kecil , atau A sampai Z huruf besar ,(jarak)\n",
        "*   [a-z[x-y]] = karakter a sampai d ,atau m sampai p (a-xy-z : gabungan)\n",
        "*   [a-z0-9] = karakter a sampai z ,atau angka dari 0 sampai 9\n",
        "*   [a-z&&[^bc] = karakter a sampi z, kecuali untuk b dan c.\n",
        "\n",
        "---\n",
        "Meta Karakter\n",
        "---\n",
        "*   . = tanda titik ,yang berarti karakter apa saja\n",
        "*   \\d = angka digit apa saja:, seperti [0-9]\n",
        "*   \\D = selain angka digit : [^0-9]\n",
        "*   \\s = sebuah spasi pada kaarkter, seperti [ \\t\\n\\x0B\\f\\r]\n",
        "*   \\S = selain spasi pada karakter: [^\\s]\n",
        "*   \\w = huruf dan angka apa saja ,seperti [a-zA-Z_0-9]\n",
        "*   \\W = selain angka dan huruf ,[\\w]\n",
        "\n",
        "---\n",
        "Batasan Kecocokan Karakter\n",
        "---\n",
        "*   ^ = tanda awalan\n",
        "*   $ = tanda akhiran\n",
        "*   \\b = batasan kecocokan kata\n",
        "*   \\B = batasan kecocokan selain kata\n",
        "*   \\A = awalan untuk input text\n",
        "*   \\G = akhir dari kecocokan sebelumnya\n",
        "*   \\Z = akhir dari input text, kecuali final terminator jika ada\n",
        "*   \\z = akhir dari input text\n"
      ],
      "metadata": {
        "id": "oAlARrGQ4l-k"
      }
    },
    {
      "cell_type": "code",
      "execution_count": 1,
      "metadata": {
        "id": "I1d9WoQ54eD_"
      },
      "outputs": [],
      "source": [
        "# Import Library Regex (re)\n",
        "import re\n",
        "\n",
        "# Pola Email\n",
        "email_pattern = re.compile(r'[\\w._%+-]+@[\\w\\.-]+\\.[a-zA-Z]{2,4}')\n",
        "txt = 'Contact kami di admin@thenextyunikorn.id, sales@yunikornbaru.com, atau hrd@yunikornindo.id'\n",
        "\n"
      ]
    },
    {
      "cell_type": "code",
      "source": [
        "txt"
      ],
      "metadata": {
        "colab": {
          "base_uri": "https://localhost:8080/",
          "height": 35
        },
        "id": "8tohi4k44f33",
        "outputId": "f3a13075-edf8-46be-eaa8-fd945c34192a"
      },
      "execution_count": 2,
      "outputs": [
        {
          "output_type": "execute_result",
          "data": {
            "text/plain": [
              "'Contact kami di admin@thenextyunikorn.id, sales@yunikornbaru.com, atau hrd@yunikornindo.id'"
            ],
            "application/vnd.google.colaboratory.intrinsic+json": {
              "type": "string"
            }
          },
          "metadata": {},
          "execution_count": 2
        }
      ]
    },
    {
      "cell_type": "markdown",
      "source": [
        "### Pola Email"
      ],
      "metadata": {
        "id": "eL7ag9IU5UEt"
      }
    },
    {
      "cell_type": "code",
      "source": [
        "# Menghapus Email dalam teks\n",
        "print( re.sub(email_pattern, ' ', txt))"
      ],
      "metadata": {
        "colab": {
          "base_uri": "https://localhost:8080/"
        },
        "id": "dz1D6cCR5NsP",
        "outputId": "4dcd3383-d888-43e7-adf3-4c81d8ac5dd6"
      },
      "execution_count": 3,
      "outputs": [
        {
          "output_type": "stream",
          "name": "stdout",
          "text": [
            "Contact kami di  ,  , atau  \n"
          ]
        }
      ]
    },
    {
      "cell_type": "code",
      "source": [
        "# Mengambil email dari teks berdasarkan pola regex yang ditentukan\n",
        "emails = re.findall(email_pattern, txt)\n",
        "print( 'Email yang ditemukan: ', emails)"
      ],
      "metadata": {
        "colab": {
          "base_uri": "https://localhost:8080/"
        },
        "id": "0hgD0Vj25XKP",
        "outputId": "460388d0-1068-4a93-fe36-1b0e62017bdc"
      },
      "execution_count": 4,
      "outputs": [
        {
          "output_type": "stream",
          "name": "stdout",
          "text": [
            "Email yang ditemukan:  ['admin@thenextyunikorn.id', 'sales@yunikornbaru.com', 'hrd@yunikornindo.id']\n"
          ]
        }
      ]
    },
    {
      "cell_type": "markdown",
      "source": [
        "### Pola Nomor Telepon"
      ],
      "metadata": {
        "id": "EftUKvWl5iwt"
      }
    },
    {
      "cell_type": "code",
      "source": [
        "# Pola telephone : \\d penanda angka di reguler Expression, \\s spasi, dan \"|\" adalah \"atau\"\n",
        "# \"?\" menyatakan pilihan (optional)\n",
        "phone_pattern = re.compile(r'(\\d{3}[-\\.\\s]??\\d{3}[-\\.\\s]??\\d{4,6}|\\(\\d{3}\\)\\s*\\d{3}[-\\.\\s]??\\d{4,6}|\\d{3,4}[-\\.\\s]??\\d{4,6})')\n",
        "txt = 'Contact kami di 021-7632456 atau 021-443-4162 atau 021 797 4524 atau 0822959020 atau +628199258643'"
      ],
      "metadata": {
        "id": "5uLcON-Z5Z3X"
      },
      "execution_count": 5,
      "outputs": []
    },
    {
      "cell_type": "code",
      "source": [
        "# Sensor *** untuk pola Nomor Telepon\n",
        "print(re.sub(phone_pattern,'***',txt))"
      ],
      "metadata": {
        "colab": {
          "base_uri": "https://localhost:8080/"
        },
        "id": "I3EyrkQJ5lyt",
        "outputId": "c20eaa44-1efa-40bc-806a-a3122e639d21"
      },
      "execution_count": 6,
      "outputs": [
        {
          "output_type": "stream",
          "name": "stdout",
          "text": [
            "Contact kami di *** atau *** atau *** atau *** atau +***\n"
          ]
        }
      ]
    },
    {
      "cell_type": "code",
      "source": [
        "# Mengambil nomor telepon dari teks berdasarkan pola regex yang telah ditentukan\n",
        "phone_numbers = re.findall(phone_pattern,txt)\n",
        "print('Nomer telephone yang ditemukan: ', str(phone_numbers))"
      ],
      "metadata": {
        "colab": {
          "base_uri": "https://localhost:8080/"
        },
        "id": "7JRvMScm5ocU",
        "outputId": "3288a52f-d9f8-46dc-dad5-d3ccd131932d"
      },
      "execution_count": 7,
      "outputs": [
        {
          "output_type": "stream",
          "name": "stdout",
          "text": [
            "Nomer telephone yang ditemukan:  ['021-7632456', '021-443-4162', '021 797 4524', '0822959020', '628199258643']\n"
          ]
        }
      ]
    },
    {
      "cell_type": "markdown",
      "source": [
        "###Pola URL atau Link"
      ],
      "metadata": {
        "id": "QX0TdMCy51Jo"
      }
    },
    {
      "cell_type": "code",
      "source": [
        "# Website URL http(s)\n",
        "url_pattern = re.compile(r'www|http:|https:+[^\\s]+[\\w]')\n",
        "txt = 'Teman teman dapat mengunjungi link berikut untuk sumber belajar: https://www.regular-expressions.info/ atau https://www.towardsdatascience.com atau https://wikipedia.org'\n"
      ],
      "metadata": {
        "id": "h4RUWsQ-5wvM"
      },
      "execution_count": 8,
      "outputs": []
    },
    {
      "cell_type": "code",
      "source": [
        "# Menghapus url pada teks\n",
        "print(re.sub(url_pattern,' ',txt))"
      ],
      "metadata": {
        "colab": {
          "base_uri": "https://localhost:8080/"
        },
        "id": "6VPaWUE856EM",
        "outputId": "46ed6508-c774-45ea-b7de-dc8cddb2166c"
      },
      "execution_count": 9,
      "outputs": [
        {
          "output_type": "stream",
          "name": "stdout",
          "text": [
            "Teman teman dapat mengunjungi link berikut untuk sumber belajar:  / atau   atau  \n"
          ]
        }
      ]
    },
    {
      "cell_type": "code",
      "source": [
        "# Mengambil url dari teks berdasarkan pola regex yang telah ditentukan\n",
        "urls = re.findall(url_pattern,txt)# get urls\n",
        "print('URL yang ditemukan: ',str(urls))"
      ],
      "metadata": {
        "colab": {
          "base_uri": "https://localhost:8080/"
        },
        "id": "dNG7stdk58W4",
        "outputId": "480e9e47-7a71-47ae-bd7c-4e80acaf703b"
      },
      "execution_count": 10,
      "outputs": [
        {
          "output_type": "stream",
          "name": "stdout",
          "text": [
            "URL yang ditemukan:  ['https://www.regular-expressions.info', 'https://www.towardsdatascience.com', 'https://wikipedia.org']\n"
          ]
        }
      ]
    },
    {
      "cell_type": "markdown",
      "source": [
        "### Pola Plat Kendaraan Bermotor"
      ],
      "metadata": {
        "id": "LNiEbH3S6CN7"
      }
    },
    {
      "cell_type": "code",
      "source": [
        "plat_pattern = re.compile(r'[A-Z]{1,2}\\s\\d{1,4}\\s[A-Z]{1,3}')\n",
        "text = \"Mr.X punya 2 motor dan 1 mobil. Adapun plat nomornya yaitu B 234 AA, C 3244 YGS, dan D 3 S.\""
      ],
      "metadata": {
        "id": "s4QddXbx5-iJ"
      },
      "execution_count": 11,
      "outputs": []
    },
    {
      "cell_type": "code",
      "source": [
        "# Menghapus plat kendaraan pada teks\n",
        "print(re.sub(plat_pattern, ' ', text))"
      ],
      "metadata": {
        "colab": {
          "base_uri": "https://localhost:8080/"
        },
        "id": "OFNIAGqK6GD_",
        "outputId": "4290a4e4-bfb0-4609-b6eb-7186f523d970"
      },
      "execution_count": 12,
      "outputs": [
        {
          "output_type": "stream",
          "name": "stdout",
          "text": [
            "Mr.X punya 2 motor dan 1 mobil. Adapun plat nomornya yaitu  ,  , dan  .\n"
          ]
        }
      ]
    },
    {
      "cell_type": "code",
      "source": [
        "kumpulan_plat_kendaraan = re.findall(plat_pattern, text)\n",
        "print(kumpulan_plat_kendaraan)"
      ],
      "metadata": {
        "colab": {
          "base_uri": "https://localhost:8080/"
        },
        "id": "hKLvdOf86Ia0",
        "outputId": "f4915552-1f2b-400b-ad69-711dd1c0b6cb"
      },
      "execution_count": 13,
      "outputs": [
        {
          "output_type": "stream",
          "name": "stdout",
          "text": [
            "['B 234 AA', 'C 3244 YGS', 'D 3 S']\n"
          ]
        }
      ]
    },
    {
      "cell_type": "markdown",
      "source": [
        "### Menghilangkan Karakter Khusus"
      ],
      "metadata": {
        "id": "dko-Vzwk6RmO"
      }
    },
    {
      "cell_type": "code",
      "source": [
        "text = \"Halo @Orbit, apa kabar? #SapaKawan.\"\n",
        "result = re.sub(r'[@,.?#]', '', text)\n",
        "print(result)"
      ],
      "metadata": {
        "colab": {
          "base_uri": "https://localhost:8080/"
        },
        "id": "cQx-_U-m6LLV",
        "outputId": "89cf97db-a6e4-4f32-87b1-9e881729f54d"
      },
      "execution_count": 14,
      "outputs": [
        {
          "output_type": "stream",
          "name": "stdout",
          "text": [
            "Halo Orbit apa kabar SapaKawan\n"
          ]
        }
      ]
    },
    {
      "cell_type": "markdown",
      "source": [
        "##Buat dipelajari tidak usah dikumpulkan!\n",
        "##FYI: **Just challenge ur knowledge**\n",
        "## Self-Activity 1\n",
        "**TEXT:**\n",
        "> Halo semua, namaku Andy Joe. Kemarin smartphoneku mendapat SMS tagihan Pinjaman Online dari nomor 08004398499. Selain itu emailku juga mendapatkan pesan serupa dari debtcollector@pinjolninuninu.com. Ternyata salah satu temanku menjadikan nomor telepon dan emailku sebagai penanggungjawab pinjaman onlinenya :(. Tak lama sosok pria berbadan bongsor datang ke rumahku dengan menggunakan mogenya. Ia menanyakan keberadaan temanku yang meminjam uang di perusahaan Pinjol tersebut. Aku yang tak tahu keberadaannya pun menjawab apa adanya. Tak lama kemudian pria tersebut pergi dan segera kuambil gambar mogenya dengan  plat PO 3030 AY. Setelah itu aku menghubungi temanku dan meminta penjelasan kepadanya.\n",
        ">\n",
        "---\n",
        "### Buatlah format pesan kepada teman Andy Joe untuk meminta penjelasan terkait dengan situasi yang sedang terjadi. (ganti teks yang cetak miring dan tebal menjadi nomor debtcollector, email debtcollector dan plat nomor)\n",
        ">\n",
        "\n",
        "**Format Pesan:**\n",
        "> \"*Halo xxxxx, Aku tadi habis didatangi debtcollector. Dia mengirimiku pesan lewat nomornya yaitu **nomor_debtcollector** dan email **email_debtcollector**. Dia bilang kamu jadiin nomorku dan emailku sebagai penanggungjawab. Bisa tolong jelasin? Terus aku tadi juga sempet foto motor yg dipake mas debtcollector. Plat nomornya **plat_nomor_debtcollector**.*\""
      ],
      "metadata": {
        "id": "xvvlUt1l6vu6"
      }
    },
    {
      "cell_type": "markdown",
      "source": [
        "## Self-Activity 2\n",
        "1. Buat Webscraping dan Crawling dari website berbeda selain warstek\n",
        "2. lakukan RegEx dari hasil Scraping\n",
        "3. visualisasikan kedalam dataframe dari hasil webscraping dan crawling\n",
        "4. Buat Data JSON untuk Chatbot resep makanan khas daerah teman-teman"
      ],
      "metadata": {
        "id": "JXuTglwVH1FC"
      }
    },
    {
      "cell_type": "code",
      "source": [
        "import requests\n",
        "from bs4 import BeautifulSoup\n",
        "import re\n",
        "import pandas as pd\n",
        "import json\n",
        "\n",
        "# Define the target URL for scraping\n",
        "url = 'https://id.wikipedia.org/wiki/Universit%D0%B0s_Mercu_Buana'  # Replace with a valid URL\n",
        "\n",
        "# Send a GET request to fetch the raw HTML content\n",
        "response = requests.get(url)\n",
        "if response.status_code == 200:\n",
        "    print(\"Successfully fetched the webpage!\")\n",
        "else:\n",
        "    print(\"Failed to retrieve webpage content.\")\n",
        "\n",
        "# Parse the HTML content using BeautifulSoup\n",
        "soup = BeautifulSoup(response.content, 'html.parser')\n",
        "\n",
        "# Extract specific text, such as contact details\n",
        "text = soup.get_text()\n",
        "\n",
        "# Define regex patterns to extract emails, phone numbers, and URLs\n",
        "email_pattern = re.compile(r'[\\w._%+-]+@[\\w\\.-]+\\.[a-zA-Z]{2,4}')\n",
        "phone_pattern = re.compile(r'(\\d{3}[-\\.\\s]??\\d{3}[-\\.\\s]??\\d{4,6}|\\(\\d{3}\\)\\s*\\d{3}[-\\.\\s]??\\d{4,6}|\\d{3,4}[-\\.\\s]??\\d{4,6})')\n",
        "url_pattern = re.compile(r'https?://[^\\s]+')\n",
        "\n",
        "# Find all matches\n",
        "emails = re.findall(email_pattern, text)\n",
        "phones = re.findall(phone_pattern, text)\n",
        "urls = re.findall(url_pattern, text)\n",
        "\n",
        "# Display found data\n",
        "print(\"Emails found:\", emails)\n",
        "print(\"Phone numbers found:\", phones)\n",
        "print(\"URLs found:\", urls)\n",
        "\n",
        "# Create DataFrame from the results\n",
        "data = {\n",
        "    \"Email\": emails,\n",
        "    \"Phone Number\": phones,\n",
        "    \"URLs\": urls\n",
        "}\n",
        "df = pd.DataFrame(dict([(k, pd.Series(v)) for k, v in data.items()]))\n",
        "print(df)\n"
      ],
      "metadata": {
        "id": "otv3T1NU6UJM",
        "colab": {
          "base_uri": "https://localhost:8080/"
        },
        "outputId": "35271b89-a237-4aa5-e865-03d52ee194bb"
      },
      "execution_count": 21,
      "outputs": [
        {
          "output_type": "stream",
          "name": "stdout",
          "text": [
            "Successfully fetched the webpage!\n",
            "Emails found: ['permissions@wikimedia.org']\n",
            "Phone numbers found: ['1985-1997', '1997-2010', '2010-2018', '2018-2022', '1985-1997', '1964-1966', '1966-1977', '1997-2010', '2010-2018', '2018-2022', '1962-1964', '1964-1966', '1966-1977', '1982-1992', '1978-1983', '1983-1988', '2018-2022', '2020-2026', '25342621']\n",
            "URLs found: ['https://id.wikipedia.org/w/index.php?title=Universitаs_Mercu_Buana&oldid=25342621\"']\n",
            "                        Email Phone Number  \\\n",
            "0   permissions@wikimedia.org    1985-1997   \n",
            "1                         NaN    1997-2010   \n",
            "2                         NaN    2010-2018   \n",
            "3                         NaN    2018-2022   \n",
            "4                         NaN    1985-1997   \n",
            "5                         NaN    1964-1966   \n",
            "6                         NaN    1966-1977   \n",
            "7                         NaN    1997-2010   \n",
            "8                         NaN    2010-2018   \n",
            "9                         NaN    2018-2022   \n",
            "10                        NaN    1962-1964   \n",
            "11                        NaN    1964-1966   \n",
            "12                        NaN    1966-1977   \n",
            "13                        NaN    1982-1992   \n",
            "14                        NaN    1978-1983   \n",
            "15                        NaN    1983-1988   \n",
            "16                        NaN    2018-2022   \n",
            "17                        NaN    2020-2026   \n",
            "18                        NaN     25342621   \n",
            "\n",
            "                                                 URLs  \n",
            "0   https://id.wikipedia.org/w/index.php?title=Uni...  \n",
            "1                                                 NaN  \n",
            "2                                                 NaN  \n",
            "3                                                 NaN  \n",
            "4                                                 NaN  \n",
            "5                                                 NaN  \n",
            "6                                                 NaN  \n",
            "7                                                 NaN  \n",
            "8                                                 NaN  \n",
            "9                                                 NaN  \n",
            "10                                                NaN  \n",
            "11                                                NaN  \n",
            "12                                                NaN  \n",
            "13                                                NaN  \n",
            "14                                                NaN  \n",
            "15                                                NaN  \n",
            "16                                                NaN  \n",
            "17                                                NaN  \n",
            "18                                                NaN  \n"
          ]
        }
      ]
    },
    {
      "cell_type": "code",
      "source": [
        "# Sample data for local food recipes\n",
        "recipes = {\n",
        "    \"recipes\": [\n",
        "        {\n",
        "            \"dish\": \"Rendang\",\n",
        "            \"origin\": \"West Sumatra\",\n",
        "            \"ingredients\": [\"Beef\", \"Coconut milk\", \"Red chili pepper\", \"Garlic\", \"Ginger\", \"Turmeric\"],\n",
        "            \"instructions\": \"Simmer beef in coconut milk and spices until tender.\",\n",
        "        },\n",
        "        {\n",
        "            \"dish\": \"Gudeg\",\n",
        "            \"origin\": \"Yogyakarta\",\n",
        "            \"ingredients\": [\"Jackfruit\", \"Coconut milk\", \"Palm sugar\", \"Garlic\", \"Shallots\", \"Bay leaves\"],\n",
        "            \"instructions\": \"Cook jackfruit in coconut milk and spices until tender.\",\n",
        "        },\n",
        "        {\n",
        "            \"dish\": \"Pempek\",\n",
        "            \"origin\": \"Palembang\",\n",
        "            \"ingredients\": [\"Fish\", \"Tapioca flour\", \"Garlic\", \"Salt\", \"Egg\"],\n",
        "            \"instructions\": \"Mix fish and flour, shape into cakes, and fry until golden.\",\n",
        "        }\n",
        "    ]\n",
        "}\n",
        "\n",
        "# Convert the dictionary to JSON and save it as a file\n",
        "with open(\"recipes_chatbot.json\", \"w\") as json_file:\n",
        "    json.dump(recipes, json_file, indent=4)\n",
        "print(\"Chatbot recipe data saved to recipes_chatbot.json.\")\n"
      ],
      "metadata": {
        "colab": {
          "base_uri": "https://localhost:8080/"
        },
        "id": "MOaebjx1appg",
        "outputId": "191cae64-13e5-4327-c24f-bfecb32235aa"
      },
      "execution_count": 20,
      "outputs": [
        {
          "output_type": "stream",
          "name": "stdout",
          "text": [
            "Chatbot recipe data saved to recipes_chatbot.json.\n"
          ]
        }
      ]
    }
  ]
}